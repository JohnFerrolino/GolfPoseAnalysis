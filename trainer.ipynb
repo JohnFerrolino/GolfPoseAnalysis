{
 "cells": [
  {
   "cell_type": "code",
   "execution_count": 1,
   "metadata": {},
   "outputs": [],
   "source": [
    "import cv2\n",
    "import numpy as np\n",
    "import os\n",
    "from matplotlib import pyplot as plt\n",
    "import time\n",
    "import mediapipe as mp\n",
    "from tensorflow import keras\n",
    "from keras.models import Model\n",
    "from keras.layers import Dense"
   ]
  },
  {
   "cell_type": "code",
   "execution_count": 2,
   "metadata": {},
   "outputs": [],
   "source": [
    "DATA_PATH = os.path.join('./Datasets') \n",
    "\n",
    "# Actions that we try to detect\n",
    "actions = np.array(['Normal'])\n",
    "\n",
    "# Thirty videos worth of data\n",
    "no_sequences = 10\n",
    "\n",
    "# Videos are going to be 30 frames in length\n",
    "sequence_length = 60\n",
    "\n",
    "# Folder start\n"
   ]
  },
  {
   "cell_type": "code",
   "execution_count": 3,
   "metadata": {},
   "outputs": [],
   "source": [
    "from sklearn.model_selection import train_test_split\n",
    "from keras.utils import to_categorical\n",
    "from keras.models import Sequential\n",
    "from keras.layers import LSTM, Dense,Dropout,GRU\n",
    "from keras.callbacks import TensorBoard\n",
    "from keras.optimizers import Adam"
   ]
  },
  {
   "cell_type": "code",
   "execution_count": 4,
   "metadata": {},
   "outputs": [],
   "source": [
    "label_map = {label:num for num, label in enumerate(actions)}"
   ]
  },
  {
   "cell_type": "code",
   "execution_count": 5,
   "metadata": {},
   "outputs": [],
   "source": [
    "DATA_PATH=\"./Datasets/\"\n",
    "sequences, labels = [], []\n",
    "for action in actions:\n",
    "    for sequence in np.array(os.listdir(os.path.join(DATA_PATH, action))).astype(int):\n",
    "        window = []\n",
    "        for frame_num in range(sequence_length):\n",
    "            res = np.load(os.path.join(DATA_PATH, action, str(sequence), \"{}.npy\".format(frame_num)))\n",
    "            window.append(res)\n",
    "        sequences.append(window)\n",
    "        labels.append(label_map[action])"
   ]
  },
  {
   "cell_type": "code",
   "execution_count": 6,
   "metadata": {},
   "outputs": [
    {
     "name": "stdout",
     "output_type": "stream",
     "text": [
      "(10, 60, 4)\n"
     ]
    }
   ],
   "source": [
    "X = np.array(sequences)\n",
    "print(X.shape)\n",
    "y = to_categorical(labels).astype(int)"
   ]
  },
  {
   "cell_type": "code",
   "execution_count": 7,
   "metadata": {},
   "outputs": [],
   "source": [
    "X_train, X_test, y_train, y_test = train_test_split(X, y, test_size=0.2)"
   ]
  },
  {
   "cell_type": "code",
   "execution_count": 8,
   "metadata": {},
   "outputs": [],
   "source": [
    "log_dir = os.path.join('Logs')\n",
    "tb_callback = TensorBoard(log_dir=log_dir)\n",
    "model = Sequential()\n",
    "# model.add(LSTM(units=8, input_shape=(60, 4)))\n",
    "model.add(LSTM(units=8, input_shape=(60, 4), kernel_regularizer='l2', recurrent_regularizer='l2', bias_regularizer='l2', return_sequences=True))\n",
    "model.add(Dropout(0.5))\n",
    "model.add(Dense(actions.shape[0], activation='sigmoid'))\n",
    "model.compile(optimizer=\"Adam\", loss='binary_crossentropy', metrics=['accuracy'])"
   ]
  },
  {
   "cell_type": "code",
   "execution_count": 9,
   "metadata": {},
   "outputs": [
    {
     "name": "stdout",
     "output_type": "stream",
     "text": [
      "Epoch 1/40\n",
      "1/1 [==============================] - 4s 4s/step - loss: 0.8813 - accuracy: 0.6625 - val_loss: 0.8818 - val_accuracy: 0.8917\n",
      "Epoch 2/40\n",
      "1/1 [==============================] - 0s 61ms/step - loss: 0.8761 - accuracy: 0.7083 - val_loss: 0.8767 - val_accuracy: 0.9167\n",
      "Epoch 3/40\n",
      "1/1 [==============================] - 0s 62ms/step - loss: 0.8680 - accuracy: 0.7292 - val_loss: 0.8717 - val_accuracy: 0.9250\n",
      "Epoch 4/40\n",
      "1/1 [==============================] - 0s 64ms/step - loss: 0.8703 - accuracy: 0.6875 - val_loss: 0.8668 - val_accuracy: 0.9333\n",
      "Epoch 5/40\n",
      "1/1 [==============================] - 0s 60ms/step - loss: 0.8684 - accuracy: 0.7021 - val_loss: 0.8618 - val_accuracy: 0.9333\n",
      "Epoch 6/40\n",
      "1/1 [==============================] - 0s 60ms/step - loss: 0.8549 - accuracy: 0.7625 - val_loss: 0.8570 - val_accuracy: 0.9417\n",
      "Epoch 7/40\n",
      "1/1 [==============================] - 0s 61ms/step - loss: 0.8532 - accuracy: 0.7500 - val_loss: 0.8521 - val_accuracy: 0.9500\n",
      "Epoch 8/40\n",
      "1/1 [==============================] - 0s 61ms/step - loss: 0.8503 - accuracy: 0.7500 - val_loss: 0.8473 - val_accuracy: 0.9500\n",
      "Epoch 9/40\n",
      "1/1 [==============================] - 0s 62ms/step - loss: 0.8423 - accuracy: 0.7792 - val_loss: 0.8425 - val_accuracy: 0.9667\n",
      "Epoch 10/40\n",
      "1/1 [==============================] - 0s 59ms/step - loss: 0.8373 - accuracy: 0.7938 - val_loss: 0.8378 - val_accuracy: 0.9667\n",
      "Epoch 11/40\n",
      "1/1 [==============================] - 0s 61ms/step - loss: 0.8312 - accuracy: 0.8208 - val_loss: 0.8330 - val_accuracy: 0.9750\n",
      "Epoch 12/40\n",
      "1/1 [==============================] - 0s 61ms/step - loss: 0.8340 - accuracy: 0.7958 - val_loss: 0.8283 - val_accuracy: 0.9750\n",
      "Epoch 13/40\n",
      "1/1 [==============================] - 0s 60ms/step - loss: 0.8230 - accuracy: 0.8438 - val_loss: 0.8236 - val_accuracy: 0.9833\n",
      "Epoch 14/40\n",
      "1/1 [==============================] - 0s 59ms/step - loss: 0.8169 - accuracy: 0.8333 - val_loss: 0.8190 - val_accuracy: 0.9833\n",
      "Epoch 15/40\n",
      "1/1 [==============================] - 0s 62ms/step - loss: 0.8199 - accuracy: 0.8188 - val_loss: 0.8143 - val_accuracy: 1.0000\n",
      "Epoch 16/40\n",
      "1/1 [==============================] - 0s 60ms/step - loss: 0.8112 - accuracy: 0.8625 - val_loss: 0.8097 - val_accuracy: 1.0000\n",
      "Epoch 17/40\n",
      "1/1 [==============================] - 0s 65ms/step - loss: 0.8036 - accuracy: 0.8667 - val_loss: 0.8050 - val_accuracy: 1.0000\n",
      "Epoch 18/40\n",
      "1/1 [==============================] - 0s 60ms/step - loss: 0.8071 - accuracy: 0.8500 - val_loss: 0.8004 - val_accuracy: 1.0000\n",
      "Epoch 19/40\n",
      "1/1 [==============================] - 0s 62ms/step - loss: 0.7965 - accuracy: 0.8937 - val_loss: 0.7958 - val_accuracy: 1.0000\n",
      "Epoch 20/40\n",
      "1/1 [==============================] - 0s 61ms/step - loss: 0.7977 - accuracy: 0.8937 - val_loss: 0.7912 - val_accuracy: 1.0000\n",
      "Epoch 21/40\n",
      "1/1 [==============================] - 0s 65ms/step - loss: 0.7903 - accuracy: 0.8896 - val_loss: 0.7866 - val_accuracy: 1.0000\n",
      "Epoch 22/40\n",
      "1/1 [==============================] - 0s 62ms/step - loss: 0.7869 - accuracy: 0.9104 - val_loss: 0.7820 - val_accuracy: 1.0000\n",
      "Epoch 23/40\n",
      "1/1 [==============================] - 0s 65ms/step - loss: 0.7846 - accuracy: 0.9021 - val_loss: 0.7773 - val_accuracy: 1.0000\n",
      "Epoch 24/40\n",
      "1/1 [==============================] - 0s 58ms/step - loss: 0.7796 - accuracy: 0.9042 - val_loss: 0.7727 - val_accuracy: 1.0000\n",
      "Epoch 25/40\n",
      "1/1 [==============================] - 0s 59ms/step - loss: 0.7776 - accuracy: 0.9187 - val_loss: 0.7681 - val_accuracy: 1.0000\n",
      "Epoch 26/40\n",
      "1/1 [==============================] - 0s 59ms/step - loss: 0.7736 - accuracy: 0.9104 - val_loss: 0.7634 - val_accuracy: 1.0000\n",
      "Epoch 27/40\n",
      "1/1 [==============================] - 0s 58ms/step - loss: 0.7594 - accuracy: 0.9458 - val_loss: 0.7588 - val_accuracy: 1.0000\n",
      "Epoch 28/40\n",
      "1/1 [==============================] - 0s 60ms/step - loss: 0.7578 - accuracy: 0.9250 - val_loss: 0.7541 - val_accuracy: 1.0000\n",
      "Epoch 29/40\n",
      "1/1 [==============================] - 0s 64ms/step - loss: 0.7533 - accuracy: 0.9437 - val_loss: 0.7495 - val_accuracy: 1.0000\n",
      "Epoch 30/40\n",
      "1/1 [==============================] - 0s 65ms/step - loss: 0.7469 - accuracy: 0.9562 - val_loss: 0.7448 - val_accuracy: 1.0000\n",
      "Epoch 31/40\n",
      "1/1 [==============================] - 0s 67ms/step - loss: 0.7423 - accuracy: 0.9396 - val_loss: 0.7401 - val_accuracy: 1.0000\n",
      "Epoch 32/40\n",
      "1/1 [==============================] - 0s 72ms/step - loss: 0.7390 - accuracy: 0.9521 - val_loss: 0.7353 - val_accuracy: 1.0000\n",
      "Epoch 33/40\n",
      "1/1 [==============================] - 0s 70ms/step - loss: 0.7400 - accuracy: 0.9688 - val_loss: 0.7305 - val_accuracy: 1.0000\n",
      "Epoch 34/40\n",
      "1/1 [==============================] - 0s 64ms/step - loss: 0.7291 - accuracy: 0.9438 - val_loss: 0.7258 - val_accuracy: 1.0000\n",
      "Epoch 35/40\n",
      "1/1 [==============================] - 0s 66ms/step - loss: 0.7232 - accuracy: 0.9688 - val_loss: 0.7209 - val_accuracy: 1.0000\n",
      "Epoch 36/40\n",
      "1/1 [==============================] - 0s 64ms/step - loss: 0.7310 - accuracy: 0.9458 - val_loss: 0.7161 - val_accuracy: 1.0000\n",
      "Epoch 37/40\n",
      "1/1 [==============================] - 0s 61ms/step - loss: 0.7187 - accuracy: 0.9521 - val_loss: 0.7112 - val_accuracy: 1.0000\n",
      "Epoch 38/40\n",
      "1/1 [==============================] - 0s 62ms/step - loss: 0.7192 - accuracy: 0.9604 - val_loss: 0.7063 - val_accuracy: 1.0000\n",
      "Epoch 39/40\n",
      "1/1 [==============================] - 0s 79ms/step - loss: 0.7133 - accuracy: 0.9792 - val_loss: 0.7014 - val_accuracy: 1.0000\n",
      "Epoch 40/40\n",
      "1/1 [==============================] - 0s 60ms/step - loss: 0.7023 - accuracy: 0.9688 - val_loss: 0.6964 - val_accuracy: 1.0000\n"
     ]
    },
    {
     "data": {
      "text/plain": [
       "<keras.callbacks.History at 0x2660de3a850>"
      ]
     },
     "execution_count": 9,
     "metadata": {},
     "output_type": "execute_result"
    }
   ],
   "source": [
    "model.fit(X_train, y_train, epochs=40,batch_size=32, callbacks=[tb_callback],validation_data=(X_test,y_test))\n",
    "# model.fit(X_train, y_train, epochs=10, batch_size=32)"
   ]
  }
 ],
 "metadata": {
  "kernelspec": {
   "display_name": "Python 3",
   "language": "python",
   "name": "python3"
  },
  "language_info": {
   "codemirror_mode": {
    "name": "ipython",
    "version": 3
   },
   "file_extension": ".py",
   "mimetype": "text/x-python",
   "name": "python",
   "nbconvert_exporter": "python",
   "pygments_lexer": "ipython3",
   "version": "3.8.10"
  },
  "vscode": {
   "interpreter": {
    "hash": "a6c65b64b590a34e1d6ebc3627c0de0b07067093c8d586f518ef74d173175f1a"
   }
  }
 },
 "nbformat": 4,
 "nbformat_minor": 2
}
